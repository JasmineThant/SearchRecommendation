{
 "cells": [
  {
   "cell_type": "code",
   "execution_count": 1,
   "id": "86e4bf04",
   "metadata": {
    "scrolled": true
   },
   "outputs": [
    {
     "name": "stdout",
     "output_type": "stream",
     "text": [
      "Requirement already satisfied: pandas in c:\\users\\jasmine.thant\\appdata\\local\\anaconda3\\lib\\site-packages (1.5.3)\n",
      "Requirement already satisfied: scikit-learn in c:\\users\\jasmine.thant\\appdata\\local\\anaconda3\\lib\\site-packages (1.2.1)\n",
      "Requirement already satisfied: flask in c:\\users\\jasmine.thant\\appdata\\local\\anaconda3\\lib\\site-packages (2.2.2)\n",
      "Requirement already satisfied: python-dateutil>=2.8.1 in c:\\users\\jasmine.thant\\appdata\\local\\anaconda3\\lib\\site-packages (from pandas) (2.8.2)\n",
      "Requirement already satisfied: numpy>=1.21.0 in c:\\users\\jasmine.thant\\appdata\\local\\anaconda3\\lib\\site-packages (from pandas) (1.23.5)\n",
      "Requirement already satisfied: pytz>=2020.1 in c:\\users\\jasmine.thant\\appdata\\local\\anaconda3\\lib\\site-packages (from pandas) (2022.7)\n",
      "Requirement already satisfied: joblib>=1.1.1 in c:\\users\\jasmine.thant\\appdata\\local\\anaconda3\\lib\\site-packages (from scikit-learn) (1.1.1)\n",
      "Requirement already satisfied: threadpoolctl>=2.0.0 in c:\\users\\jasmine.thant\\appdata\\local\\anaconda3\\lib\\site-packages (from scikit-learn) (2.2.0)\n",
      "Requirement already satisfied: scipy>=1.3.2 in c:\\users\\jasmine.thant\\appdata\\local\\anaconda3\\lib\\site-packages (from scikit-learn) (1.10.0)\n",
      "Requirement already satisfied: Jinja2>=3.0 in c:\\users\\jasmine.thant\\appdata\\local\\anaconda3\\lib\\site-packages (from flask) (3.1.2)\n",
      "Requirement already satisfied: itsdangerous>=2.0 in c:\\users\\jasmine.thant\\appdata\\local\\anaconda3\\lib\\site-packages (from flask) (2.0.1)\n",
      "Requirement already satisfied: click>=8.0 in c:\\users\\jasmine.thant\\appdata\\local\\anaconda3\\lib\\site-packages (from flask) (8.0.4)\n",
      "Requirement already satisfied: Werkzeug>=2.2.2 in c:\\users\\jasmine.thant\\appdata\\local\\anaconda3\\lib\\site-packages (from flask) (2.2.2)\n",
      "Requirement already satisfied: colorama in c:\\users\\jasmine.thant\\appdata\\local\\anaconda3\\lib\\site-packages (from click>=8.0->flask) (0.4.6)\n",
      "Requirement already satisfied: MarkupSafe>=2.0 in c:\\users\\jasmine.thant\\appdata\\local\\anaconda3\\lib\\site-packages (from Jinja2>=3.0->flask) (2.1.1)\n",
      "Requirement already satisfied: six>=1.5 in c:\\users\\jasmine.thant\\appdata\\local\\anaconda3\\lib\\site-packages (from python-dateutil>=2.8.1->pandas) (1.16.0)\n"
     ]
    }
   ],
   "source": [
    "!pip install pandas scikit-learn flask"
   ]
  },
  {
   "cell_type": "code",
   "execution_count": 2,
   "id": "38bef887",
   "metadata": {},
   "outputs": [],
   "source": [
    "# Clean up any text data, particularly 'MODEL', by removing extra spaces and quotes\n",
    "def clean_text(text):\n",
    "    text = str(text).lower().strip()\n",
    "    text = re.sub(r'[^\\w\\s]', '', text) # Remove special characters\n",
    "    return text"
   ]
  },
  {
   "cell_type": "code",
   "execution_count": 4,
   "id": "57ec24ad",
   "metadata": {},
   "outputs": [],
   "source": [
    "def search_model(query, tfidf_matrix, df, tfidf):\n",
    "    query_cleaned = clean_text(query)\n",
    "    query_vec = tfidf.transform([query_cleaned])\n",
    "    \n",
    "    # Calculate cosine similarity between query and model descriptions\n",
    "    cosine_sim = cosine_similarity(query_vec, tfidf_matrix)\n",
    "    \n",
    "    # Get the top N most similar items\n",
    "    similar_indices = cosine_sim.argsort().flatten()[-5:][::-1]\n",
    "    \n",
    "    # Return the most similar models\n",
    "    return df.iloc[similar_indices][['MODEL', 'BANK', 'Loan Period']]\n",
    "\n",
    "# Test the search function with a query like IONIQ 5 ELECTRIC PRESTIGE 2WD\n",
    "#search_results = search('IONIQ 5 ELECTRIC PRESTIGE 2WD', tfidf_matrix, df, tfidf)\n",
    "#print(search_results)"
   ]
  },
  {
   "cell_type": "code",
   "execution_count": 5,
   "id": "e6056f19",
   "metadata": {},
   "outputs": [],
   "source": [
    "def recommend_model(model_name, tfidf_matrix, df):\n",
    "    # Find the index of the motor model the user likes\n",
    "    model_index = df[df['Cleaned_Model'] == clean_text(model_name)].index[0]\n",
    "    \n",
    "    # Calculate cosine similarity between the selected model and all others\n",
    "    cosine_sim = cosine_similarity(tfidf_matrix[model_index], tfidf_matrix)\n",
    "    \n",
    "    # Get the top 5 most similar models\n",
    "    similar_indices = cosine_sim.argsort().flatten()[-5:][::-1]\n",
    "    \n",
    "    # Return the recommended models\n",
    "    return df.iloc[similar_indices][['MODEL', 'BANK', 'Loan Period']]\n",
    "\n",
    "# Test the recommendation system with 'IONIQ 5 ELECTRIC PRESTIGE 2WD'\n",
    "#recommendations = recommend_model('IONIQ 5 ELECTRIC PRESTIGE 2WD', tfidf_matrix, df)\n",
    "#print(recommendations)"
   ]
  },
  {
   "cell_type": "code",
   "execution_count": 10,
   "id": "b89e79e8",
   "metadata": {},
   "outputs": [],
   "source": [
    "def Search_Occupation(query, tfidf_matrix, df, tfidf):\n",
    "    query_cleaned = clean_text(query)\n",
    "    query_vec = tfidf.transform([query_cleaned])\n",
    "    cosine_sim = cosine_similarity(query_vec, tfidf_matrix)\n",
    "    similar_indices = cosine_sim.argsort().flatten()[-5:][::-1]\n",
    "    return df.iloc[similar_indices][['Ocupation', 'MODEL', 'BANK']]\n",
    "\n",
    "# Test the search function with a query like DIRECTOR\n",
    "#search_resultsOccu = Search_Occupation('DIRECTOR', tfidf_matrix, df, tfidf)\n",
    "#print(search_resultsOccu)\n",
    "\n",
    "def Recommend_Occupation(occupation, tfidf_matrix, df):\n",
    "    occupation_index = df[df['Cleaned_Occupation'] == clean_text(occupation)].index[0]\n",
    "    cosine_sim = cosine_similarity(tfidf_matrix[occupation_index], tfidf_matrix)\n",
    "    similar_indices = cosine_sim.argsort().flatten()[-15:][::-1] # Get more than 5 for redundancy\n",
    "    recommendations = df.iloc[similar_indices][['Ocupation', 'MODEL', 'BANK']]\n",
    "    recommendations = recommendations.drop_duplicates(subset='MODEL')  # Remove duplicates based on 'MODEL'\n",
    "    return recommendations.head(5) # Return the top 5 unique recommendations \n",
    "\n",
    "# Test the recommendation system with DIRECTOR\n",
    "#recommendationsOccu = Recommend_Occupation('DIRECTOR', tfidf_matrix, df)\n",
    "#print(recommendationsOccu)"
   ]
  },
  {
   "cell_type": "code",
   "execution_count": null,
   "id": "b2099c65",
   "metadata": {},
   "outputs": [],
   "source": []
  }
 ],
 "metadata": {
  "kernelspec": {
   "display_name": "Python 3 (ipykernel)",
   "language": "python",
   "name": "python3"
  },
  "language_info": {
   "codemirror_mode": {
    "name": "ipython",
    "version": 3
   },
   "file_extension": ".py",
   "mimetype": "text/x-python",
   "name": "python",
   "nbconvert_exporter": "python",
   "pygments_lexer": "ipython3",
   "version": "3.10.9"
  }
 },
 "nbformat": 4,
 "nbformat_minor": 5
}
