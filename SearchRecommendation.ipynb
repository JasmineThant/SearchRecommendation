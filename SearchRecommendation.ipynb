{
 "cells": [
  {
   "cell_type": "code",
   "execution_count": 41,
   "id": "86e4bf04",
   "metadata": {
    "scrolled": true
   },
   "outputs": [],
   "source": [
    "#!pip install pandas scikit-learn flask"
   ]
  },
  {
   "cell_type": "code",
   "execution_count": 42,
   "id": "8bb69a34",
   "metadata": {},
   "outputs": [],
   "source": [
    "# Clean up any text data, particularly 'MODEL', by removing extra spaces and quotes\n",
    "def clean_text(text):\n",
    "    text = str(text).lower().strip()\n",
    "    text = re.sub(r'[^\\w\\s]', '', text) # Remove special characters\n",
    "    return text"
   ]
  },
  {
   "cell_type": "code",
   "execution_count": 43,
   "id": "d846757c",
   "metadata": {},
   "outputs": [],
   "source": [
    "# import pandas as pd\n",
    "# import re\n",
    "# file_path = 'C:/1. Jasmine/Mine Docs/Learning/My Projs/Carprice/Data_2023-2024.csv'\n",
    "# df = pd.read_csv(file_path)\n",
    "\n",
    "# # Clean the column names by stripping whitespace\n",
    "# df.columns = df.columns.str.strip()\n",
    "\n",
    "# # Apply cleaning to MODEL column\n",
    "# df['Cleaned_Model'] = df['MODEL'].apply(clean_text)\n",
    "# df[['MODEL', 'Cleaned_Model']].head()"
   ]
  },
  {
   "cell_type": "code",
   "execution_count": 44,
   "id": "982b13ed",
   "metadata": {},
   "outputs": [],
   "source": [
    "#from sklearn.feature_extraction.text import TfidfVectorizer\n",
    "#from sklearn.metrics.pairwise import cosine_similarity\n",
    "#df['Cleaned_Model'] = df['MODEL'].apply(clean_text)\n",
    "#tfidf = TfidfVectorizer(stop_words='english')\n",
    "#tfidf_matrix = tfidf.fit_transform(df['Cleaned_Model'])\n",
    "\n",
    "def search_model(query, tfidf_matrix, df, tfidf):\n",
    "    query_cleaned = clean_text(query)\n",
    "    query_vec = tfidf.transform([query_cleaned])\n",
    "    \n",
    "    # Calculate cosine similarity between query and model descriptions\n",
    "    cosine_sim = cosine_similarity(query_vec, tfidf_matrix)\n",
    "    \n",
    "    # Get the top N most similar items\n",
    "    similar_indices = cosine_sim.argsort().flatten()[-5:][::-1]\n",
    "    \n",
    "    # Return the most similar models\n",
    "    return df.iloc[similar_indices][['MODEL', 'BANK', 'Loan Period']]\n",
    "\n",
    "# Test the search function with a query like IONIQ 5 ELECTRIC PRESTIGE 2WD\n",
    "#search_results = search('IONIQ 5 ELECTRIC PRESTIGE 2WD', tfidf_matrix, df, tfidf)\n",
    "#print(search_results)"
   ]
  },
  {
   "cell_type": "code",
   "execution_count": 45,
   "id": "8057d791",
   "metadata": {},
   "outputs": [],
   "source": [
    "#from sklearn.feature_extraction.text import TfidfVectorizer\n",
    "#from sklearn.metrics.pairwise import cosine_similarity\n",
    "#df['Cleaned_Model'] = df['MODEL'].apply(clean_text)\n",
    "#tfidf = TfidfVectorizer(stop_words='english')\n",
    "#tfidf_matrix = tfidf.fit_transform(df['Cleaned_Model'])\n",
    "\n",
    "def recommend_model(model_name, tfidf_matrix, df):\n",
    "    # Find the index of the motor model the user likes\n",
    "    model_index = df[df['Cleaned_Model'] == clean_text(model_name)].index[0]\n",
    "    \n",
    "    # Calculate cosine similarity between the selected model and all others\n",
    "    cosine_sim = cosine_similarity(tfidf_matrix[model_index], tfidf_matrix)\n",
    "    \n",
    "    # Get the top 5 most similar models\n",
    "    similar_indices = cosine_sim.argsort().flatten()[-5:][::-1]\n",
    "    \n",
    "    # Return the recommended models\n",
    "    return df.iloc[similar_indices][['MODEL', 'BANK', 'Loan Period']]\n",
    "\n",
    "# Test the recommendation system with 'IONIQ 5 ELECTRIC PRESTIGE 2WD'\n",
    "#recommendations = recommend_model('IONIQ 5 ELECTRIC PRESTIGE 2WD', tfidf_matrix, df)\n",
    "#print(recommendations)"
   ]
  },
  {
   "cell_type": "code",
   "execution_count": 46,
   "id": "9c418f21",
   "metadata": {},
   "outputs": [],
   "source": [
    "#from sklearn.feature_extraction.text import TfidfVectorizer\n",
    "#from sklearn.metrics.pairwise import cosine_similarity\n",
    "#df['Cleaned_Occupation'] = df['Ocupation'].apply(clean_text)\n",
    "#tfidf = TfidfVectorizer(stop_words='english')\n",
    "#tfidf_matrix = tfidf.fit_transform(df['Cleaned_Occupation'])\n",
    "\n",
    "def Search_Occupation(query, tfidf_matrix, df, tfidf):\n",
    "    query_cleaned = clean_text(query)\n",
    "    query_vec = tfidf.transform([query_cleaned])\n",
    "    cosine_sim = cosine_similarity(query_vec, tfidf_matrix)\n",
    "    similar_indices = cosine_sim.argsort().flatten()[-5:][::-1]\n",
    "    return df.iloc[similar_indices][['Ocupation', 'MODEL', 'BANK']]\n",
    "\n",
    "# Test the search function with a query like DIRECTOR\n",
    "#search_resultsOccu = Search_Occupation('DIRECTOR', tfidf_matrix, df, tfidf)\n",
    "#print(search_resultsOccu)\n",
    "\n",
    "def Recommend_Occupation(occupation, tfidf_matrix, df):\n",
    "    occupation_index = df[df['Cleaned_Occupation'] == clean_text(occupation)].index[0]\n",
    "    cosine_sim = cosine_similarity(tfidf_matrix[occupation_index], tfidf_matrix)\n",
    "    similar_indices = cosine_sim.argsort().flatten()[-15:][::-1] # Get more than 5 for redundancy\n",
    "    recommendations = df.iloc[similar_indices][['Ocupation', 'MODEL', 'BANK']]\n",
    "    recommendations = recommendations.drop_duplicates(subset='MODEL')  # Remove duplicates based on 'MODEL'\n",
    "    return recommendations.head(5) # Return the top 5 unique recommendations \n",
    "\n",
    "# Test the recommendation system with DIRECTOR\n",
    "#recommendationsOccu = Recommend_Occupation('DIRECTOR', tfidf_matrix, df)\n",
    "#print(recommendationsOccu)"
   ]
  },
  {
   "cell_type": "code",
   "execution_count": null,
   "id": "e7a17b00",
   "metadata": {},
   "outputs": [],
   "source": []
  }
 ],
 "metadata": {
  "kernelspec": {
   "display_name": "Python 3 (ipykernel)",
   "language": "python",
   "name": "python3"
  },
  "language_info": {
   "codemirror_mode": {
    "name": "ipython",
    "version": 3
   },
   "file_extension": ".py",
   "mimetype": "text/x-python",
   "name": "python",
   "nbconvert_exporter": "python",
   "pygments_lexer": "ipython3",
   "version": "3.10.9"
  }
 },
 "nbformat": 4,
 "nbformat_minor": 5
}
